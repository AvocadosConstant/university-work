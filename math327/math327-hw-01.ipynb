{
 "cells": [
  {
   "cell_type": "markdown",
   "metadata": {},
   "source": [
    "# Problem Set 1\n",
    "*Math 327 - Probability with Stat Methods | Binghamton University*\n",
    " \n",
    "*Tim Hung | January 27, 2017*"
   ]
  },
  {
   "cell_type": "markdown",
   "metadata": {},
   "source": [
    "## Chapter 1"
   ]
  },
  {
   "cell_type": "markdown",
   "metadata": {},
   "source": [
    "#### 1. An election will be held next week and, by polling a sample of the voting population, we are trying to predict whether the Republican or Democratic candidate will prevail. Which of the following methods of selection is likely to yield a representative sample?\n",
    "\n",
    "(a) Poll all people of voting age attending a college basketball game.\n",
    "\n",
    "(b) Poll all people of voting age leaving a fancy midtown restaurant.\n",
    "\n",
    "**(c) Obtain a copy of the voter registration list, randomly choose 100 names, and question them.**\n",
    "    \n",
    "(d) Use the results of a television call-in poll, in which the station asked its listeners to call in and name their choice.\n",
    "\n",
    "(e) Choose names from the telephone directory and call these people"
   ]
  },
  {
   "cell_type": "markdown",
   "metadata": {},
   "source": [
    "#### 2. The approach used in Problem 1(e) led to a disastrous prediction in the 1936 presidential election, in which Franklin Roosevelt defeated Alfred Landon by a landslide. A Landon victory had been predicted by the Literary Digest. The magazine based its prediction on the preferences of a sample of voters chosen from lists of automobile and telephone owners.\n",
    "\n",
    "(a) Why do you think the Literary Digest’s prediction was so far off ?\n",
    "\n",
    "    In 1936, telephone and automobile owners were probably limited to wealthy and well off voters. Thus, the sample would be more representative of richer voters.\n",
    "    \n",
    "(b) Has anything changed between 1936 and now that would make you believe\n",
    "that the approach used by the Literary Digest would work better today?\n",
    "\n",
    "    More people can afford cars, and most people have cellphones so it would be a better sample today."
   ]
  },
  {
   "cell_type": "markdown",
   "metadata": {},
   "source": [
    "#### 5. A university plans on conducting a survey of its recent graduates to determine information on their yearly salaries. It randomly selected 200 recent graduates and sent them questionnaires dealing with their present jobs. Of these 200, however, only 86 were returned. Suppose that the average of the yearly salaries reported was \\$75,000.\n",
    "\n",
    "(a) Would the university be correct in thinking that $75,000 was a good approximation to the average salary level of all of its graduates? Explain the reasoning behind your answer.\n",
    "\n",
    "    No, alumni who were reluctant to respond are more likely to be unhappy with their jobs/salaries. This will result in right-skewed data.\n",
    "\n",
    "(b) If your answer to part (a) is no, can you think of any set of conditions relating to the group that returned questionnaires for which it would be a good approximation?\n",
    "\n",
    "    Alumni who have a good relationship with the university."
   ]
  },
  {
   "cell_type": "markdown",
   "metadata": {},
   "source": [
    "#### 10. Based on Graunt’s mortality table:\n",
    "\n",
    "(a) What proportion of people survived to age 6?\n",
    "\n",
    "    64%\n",
    "    \n",
    "(b) What proportion survived to age 46?\n",
    "    \n",
    "    10%\n",
    "    \n",
    "(c) What proportion died between the ages of 6 and 36?\n",
    "\n",
    "    48%"
   ]
  },
  {
   "cell_type": "markdown",
   "metadata": {
    "collapsed": false
   },
   "source": [
    "## Chapter 2"
   ]
  },
  {
   "cell_type": "markdown",
   "metadata": {
    "collapsed": false
   },
   "source": [
    "#### 1. The following is a sample of prices, rounded to the nearest cent, charged per gallon of standard unleaded gasoline in the San Francisco Bay area in June 1997.\n",
    "\n",
    "    3.88, 3.90, 3.93, 3.90, 3.93, 3.96, 3.88, 3.94, 3.96, 3.88, 3.94, 3.99, 3.98\n",
    "#### Represent these data in\n",
    "\n",
    "(a) a frequency table;\n",
    "\n",
    "(b) a relative frequency line graph."
   ]
  },
  {
   "cell_type": "code",
   "execution_count": 6,
   "metadata": {
    "collapsed": false
   },
   "outputs": [
    {
     "data": {
      "text/plain": [
       "prices\n",
       "3.88  3.9 3.93 3.94 3.96 3.98 3.99 \n",
       "   3    2    2    2    2    1    1 "
      ]
     },
     "metadata": {},
     "output_type": "display_data"
    }
   ],
   "source": [
    "prices <- c(3.88, 3.90, 3.93, 3.90, 3.93, 3.96, 3.88, 3.94, 3.96, 3.88, 3.94, 3.99, 3.98)\n",
    "table(prices)"
   ]
  },
  {
   "cell_type": "markdown",
   "metadata": {},
   "source": [
    "#### 3. The following are the estimated oil reserves, in billions of barrels, for four regions in the Western Hemisphere.\n",
    "\n",
    "    United States 38.7\n",
    "    South America 22.6\n",
    "    Canada 8.8\n",
    "    Mexico 60.0\n",
    "\n",
    "#### Represent these data in a pie chart"
   ]
  },
  {
   "cell_type": "markdown",
   "metadata": {},
   "source": [
    "#### 7. (Use the table from Problem 6.)\n",
    "\n",
    "(a) Represent the number of yearly airline fatalities in a histogram.\n",
    "    \n",
    "(b) Represent the number of yearly airline fatalities in a stem and leaf plot.\n",
    "    \n",
    "(c) Find the sample mean of the number of yearly airline fatalities.\n",
    "    \n",
    "(d) Find the sample median of the number of yearly airline fatalities.\n",
    "    \n",
    "(e) Find the sample standard deviation of the number of yearly airline fatalities"
   ]
  },
  {
   "cell_type": "markdown",
   "metadata": {},
   "source": [
    "#### 8. The sample mean of the weights of the adult women of town A is larger than the sample mean of the weights of the adult women of town B. Moreover, the sample mean of the weights of the adult men of town A is larger than the sample mean of the weights of the adult men of town B. Can we conclude that the sample mean of the weights of the adults of town A is larger than the sample mean of the weights of the adults of town B? Explain your answer."
   ]
  },
  {
   "cell_type": "markdown",
   "metadata": {},
   "source": [
    "13. The following are the percentages of ash content in 12 samples of coal found in\n",
    "close proximity:\n",
    "9.2, 14.1, 9.8, 12.4, 16.0, 12.6, 22.7, 18.9, 21.0, 14.5, 20.4, 16.9\n",
    "Find the\n",
    "(a) sample mean, and\n",
    "(b) sample standard deviation of these percentages"
   ]
  },
  {
   "cell_type": "markdown",
   "metadata": {},
   "source": [
    "#### 16. The following data represent the lifetimes (in hours) of a sample of 40 transistors:\n",
    "\n",
    "    112, 121, 126, 108, 141, 104, 136, 134\n",
    "    121, 118, 143, 116, 108, 122, 127, 140\n",
    "    113, 117, 126, 130, 134, 120, 131, 133\n",
    "    118, 125, 151, 147, 137, 140, 132, 119\n",
    "    110, 124, 132, 152, 135, 130, 136, 128\n",
    "\n",
    "(a) Determine the sample mean, median, and mode.\n",
    "\n",
    "(b) Give a cumulative relative frequency plot of these data."
   ]
  },
  {
   "cell_type": "markdown",
   "metadata": {},
   "source": [
    "#### 20. Find the quartiles of the following ages at death as given in obituaries of the New York Times in the 2 weeks preceding 1 August 2013.\n",
    "\n",
    "    92, 90, 92, 74, 69, 80, 94, 98, 65, 96, 84, 69, 86, 91, 88\n",
    "    74, 97, 85, 88, 68, 77, 94, 88, 65, 76, 75, 60\n",
    "    69, 97, 92, 85, 70, 80, 93, 91, 68, 82, 78, 89"
   ]
  },
  {
   "cell_type": "markdown",
   "metadata": {},
   "source": [
    "#### 23. Represent the data of Problem 20 in a box plot."
   ]
  },
  {
   "cell_type": "markdown",
   "metadata": {},
   "source": [
    "#### 26. The following are the grade point averages of 30 students recently admitted to the graduate program in the Department of Industrial Engineering and Operations Research at the University of California at Berkeley.\n",
    "\n",
    "    3.46, 3.72, 3.95, 3.55, 3.62, 3.80, 3.86, 3.71, 3.56, 3.49, 3.96, 3.90, 3.70, 3.61,\n",
    "    3.72, 3.65, 3.48, 3.87, 3.82, 3.91, 3.69, 3.67, 3.72, 3.66, 3.79, 3.75, 3.93, 3.74,\n",
    "    3.50, 3.83\n",
    "\n",
    "(a) Represent the preceding data in a stem and leaf plot.\n",
    "\n",
    "(c) Calculate the sample standard deviation s"
   ]
  },
  {
   "cell_type": "markdown",
   "metadata": {},
   "source": [
    "#### 33. A random group of 12 high school juniors were asked to estimate the average number of hours they study each week. The following give these hours along with the student’s grade point average.\n",
    "\n",
    "    Hours GPA\n",
    "    6 2.8\n",
    "    14 3.2\n",
    "    3 3.1\n",
    "    22 3.6\n",
    "    9 3.0\n",
    "    11 3.3\n",
    "    12 3.4\n",
    "    5 2.7\n",
    "    18 3.1\n",
    "    24 3.8\n",
    "    15 3.0\n",
    "    17 3.9\n",
    "\n",
    "#### Find the sample correlation coefficient between hours reported and GPA."
   ]
  },
  {
   "cell_type": "markdown",
   "metadata": {},
   "source": [
    "#### 36. In a study of children in grades 2 through 4, a researcher gave each student a reading test. When looking at the resulting data the researcher noted a positive correlation between a student’s reading test score and height. The researcher concluded that taller children read better because they can more easily see the blackboard. What do you think?"
   ]
  },
  {
   "cell_type": "markdown",
   "metadata": {},
   "source": [
    "#### 37. A recent study yielded a positive correlation between breast-fed babies and scores on a vocabulary test taken at age 6. Discuss the potential difficulties in interpreting the results of this study."
   ]
  },
  {
   "cell_type": "code",
   "execution_count": null,
   "metadata": {
    "collapsed": true
   },
   "outputs": [],
   "source": []
  }
 ],
 "metadata": {
  "kernelspec": {
   "display_name": "R",
   "language": "R",
   "name": "ir"
  },
  "language_info": {
   "codemirror_mode": "r",
   "file_extension": ".r",
   "mimetype": "text/x-r-source",
   "name": "R",
   "pygments_lexer": "r",
   "version": "3.3.2"
  }
 },
 "nbformat": 4,
 "nbformat_minor": 2
}
